{
 "cells": [
  {
   "cell_type": "markdown",
   "metadata": {},
   "source": [
    "# Campervan Projekt"
   ]
  },
  {
   "cell_type": "markdown",
   "metadata": {},
   "source": [
    "## Libraries and settings"
   ]
  },
  {
   "cell_type": "code",
   "execution_count": 16,
   "metadata": {},
   "outputs": [
    {
     "name": "stdout",
     "output_type": "stream",
     "text": [
      "/workspaces/project_Autoscout_Coding_Pros/Project_Campers\n"
     ]
    }
   ],
   "source": [
    "# Libraries\n",
    "import os\n",
    "import re\n",
    "import pprint\n",
    "import requests\n",
    "import numpy as np\n",
    "import pandas as pd\n",
    "\n",
    "import geopandas as gpd\n",
    "\n",
    "from shapely.geometry import Polygon\n",
    "\n",
    "import matplotlib.patches as patches\n",
    "from matplotlib import pyplot as plt\n",
    "\n",
    "# Ignore warnings\n",
    "import warnings\n",
    "warnings.filterwarnings(\"ignore\")\n",
    "\n",
    "print(os.getcwd())"
   ]
  },
  {
   "cell_type": "markdown",
   "metadata": {},
   "source": [
    "## Import data"
   ]
  },
  {
   "cell_type": "code",
   "execution_count": 17,
   "metadata": {},
   "outputs": [
    {
     "data": {
      "text/html": [
       "<div>\n",
       "<style scoped>\n",
       "    .dataframe tbody tr th:only-of-type {\n",
       "        vertical-align: middle;\n",
       "    }\n",
       "\n",
       "    .dataframe tbody tr th {\n",
       "        vertical-align: top;\n",
       "    }\n",
       "\n",
       "    .dataframe thead th {\n",
       "        text-align: right;\n",
       "    }\n",
       "</style>\n",
       "<table border=\"1\" class=\"dataframe\">\n",
       "  <thead>\n",
       "    <tr style=\"text-align: right;\">\n",
       "      <th></th>\n",
       "      <th>web-scraper-order</th>\n",
       "      <th>web-scraper-start-url</th>\n",
       "      <th>autoscout24</th>\n",
       "      <th>autoscout24-href</th>\n",
       "      <th>description_raw</th>\n",
       "      <th>price_raw</th>\n",
       "      <th>mileage_raw</th>\n",
       "      <th>fuel_type_raw</th>\n",
       "      <th>location_raw</th>\n",
       "    </tr>\n",
       "  </thead>\n",
       "  <tbody>\n",
       "    <tr>\n",
       "      <th>0</th>\n",
       "      <td>1733470796-1</td>\n",
       "      <td>https://www.autoscout24.ch/de/s/vc-camper?mile...</td>\n",
       "      <td>NaN</td>\n",
       "      <td>https://www.autoscout24.ch/de/d/mercedes-benz-...</td>\n",
       "      <td>MERCEDES-BENZ Camper</td>\n",
       "      <td>CHF 15'900.–</td>\n",
       "      <td>265'000 km</td>\n",
       "      <td>Diesel</td>\n",
       "      <td>Mittelstrasse 38, 3613 Steffisburg</td>\n",
       "    </tr>\n",
       "    <tr>\n",
       "      <th>1</th>\n",
       "      <td>1733470799-2</td>\n",
       "      <td>https://www.autoscout24.ch/de/s/vc-camper?mile...</td>\n",
       "      <td>NaN</td>\n",
       "      <td>https://www.autoscout24.ch/de/d/carado-i-449-e...</td>\n",
       "      <td>CARADO I 449 Édition 15 Fiat Capron 169L/1449</td>\n",
       "      <td>CHF 71'900.–</td>\n",
       "      <td>14'000 km</td>\n",
       "      <td>Diesel</td>\n",
       "      <td>Zone industrielle Les Portettes 2c, 1312 Eclépens</td>\n",
       "    </tr>\n",
       "    <tr>\n",
       "      <th>2</th>\n",
       "      <td>1733470801-3</td>\n",
       "      <td>https://www.autoscout24.ch/de/s/vc-camper?mile...</td>\n",
       "      <td>NaN</td>\n",
       "      <td>https://www.autoscout24.ch/de/d/dethleffs-fiat...</td>\n",
       "      <td>DETHLEFFS Fiat Ducato</td>\n",
       "      <td>CHF 37'800.–</td>\n",
       "      <td>90'000 km</td>\n",
       "      <td>Diesel</td>\n",
       "      <td>Rte du St-Bernard 8, 1937 Orsières</td>\n",
       "    </tr>\n",
       "    <tr>\n",
       "      <th>3</th>\n",
       "      <td>1733470805-4</td>\n",
       "      <td>https://www.autoscout24.ch/de/s/vc-camper?mile...</td>\n",
       "      <td>NaN</td>\n",
       "      <td>https://www.autoscout24.ch/de/d/fiat-euro-mast...</td>\n",
       "      <td>FIAT Euro Master Wohnmobil</td>\n",
       "      <td>CHF 19'900.–</td>\n",
       "      <td>187'236 km</td>\n",
       "      <td>Diesel</td>\n",
       "      <td>Badenerstrasse 84, 8952 Schlieren</td>\n",
       "    </tr>\n",
       "    <tr>\n",
       "      <th>4</th>\n",
       "      <td>1733470807-5</td>\n",
       "      <td>https://www.autoscout24.ch/de/s/vc-camper?mile...</td>\n",
       "      <td>NaN</td>\n",
       "      <td>https://www.autoscout24.ch/de/d/vw-t61-califor...</td>\n",
       "      <td>VW T6.1 California 2.0 TDI Ocean Edition Liber...</td>\n",
       "      <td>CHF 84'500.–</td>\n",
       "      <td>16'500 km</td>\n",
       "      <td>Diesel</td>\n",
       "      <td>8852 Altendorf</td>\n",
       "    </tr>\n",
       "  </tbody>\n",
       "</table>\n",
       "</div>"
      ],
      "text/plain": [
       "  web-scraper-order                              web-scraper-start-url  \\\n",
       "0      1733470796-1  https://www.autoscout24.ch/de/s/vc-camper?mile...   \n",
       "1      1733470799-2  https://www.autoscout24.ch/de/s/vc-camper?mile...   \n",
       "2      1733470801-3  https://www.autoscout24.ch/de/s/vc-camper?mile...   \n",
       "3      1733470805-4  https://www.autoscout24.ch/de/s/vc-camper?mile...   \n",
       "4      1733470807-5  https://www.autoscout24.ch/de/s/vc-camper?mile...   \n",
       "\n",
       "   autoscout24                                   autoscout24-href  \\\n",
       "0          NaN  https://www.autoscout24.ch/de/d/mercedes-benz-...   \n",
       "1          NaN  https://www.autoscout24.ch/de/d/carado-i-449-e...   \n",
       "2          NaN  https://www.autoscout24.ch/de/d/dethleffs-fiat...   \n",
       "3          NaN  https://www.autoscout24.ch/de/d/fiat-euro-mast...   \n",
       "4          NaN  https://www.autoscout24.ch/de/d/vw-t61-califor...   \n",
       "\n",
       "                                     description_raw     price_raw  \\\n",
       "0                               MERCEDES-BENZ Camper  CHF 15'900.–   \n",
       "1      CARADO I 449 Édition 15 Fiat Capron 169L/1449  CHF 71'900.–   \n",
       "2                              DETHLEFFS Fiat Ducato  CHF 37'800.–   \n",
       "3                         FIAT Euro Master Wohnmobil  CHF 19'900.–   \n",
       "4  VW T6.1 California 2.0 TDI Ocean Edition Liber...  CHF 84'500.–   \n",
       "\n",
       "  mileage_raw fuel_type_raw                                       location_raw  \n",
       "0  265'000 km        Diesel                 Mittelstrasse 38, 3613 Steffisburg  \n",
       "1   14'000 km        Diesel  Zone industrielle Les Portettes 2c, 1312 Eclépens  \n",
       "2   90'000 km        Diesel                 Rte du St-Bernard 8, 1937 Orsières  \n",
       "3  187'236 km        Diesel                  Badenerstrasse 84, 8952 Schlieren  \n",
       "4   16'500 km        Diesel                                     8852 Altendorf  "
      ]
     },
     "execution_count": 17,
     "metadata": {},
     "output_type": "execute_result"
    }
   ],
   "source": [
    "# Read data\n",
    "df = pd.read_csv(\"./data/Autoscout24_Camper.csv\", sep=\",\", encoding='utf-8')\n",
    "\n",
    "# Show first records of data frame\n",
    "df.head()\n"
   ]
  },
  {
   "cell_type": "markdown",
   "metadata": {},
   "source": [
    "### Count numbre of rows and columns in the dateframe"
   ]
  },
  {
   "cell_type": "code",
   "execution_count": 18,
   "metadata": {},
   "outputs": [
    {
     "name": "stdout",
     "output_type": "stream",
     "text": [
      "Dimension: (1587, 9)\n",
      "Number of rows: 1587\n",
      "Number of columns: 9\n"
     ]
    }
   ],
   "source": [
    "# Dimension (rows, columns)\n",
    "print('Dimension:', df.shape)\n",
    "\n",
    "# Number of rows\n",
    "print('Number of rows:', df.shape[0])\n",
    "\n",
    "# Number of columns\n",
    "print('Number of columns:', df.shape[1])"
   ]
  },
  {
   "cell_type": "markdown",
   "metadata": {},
   "source": [
    "### Get Data types from Web scraping"
   ]
  },
  {
   "cell_type": "code",
   "execution_count": 19,
   "metadata": {},
   "outputs": [
    {
     "data": {
      "text/plain": [
       "web-scraper-order         object\n",
       "web-scraper-start-url     object\n",
       "autoscout24              float64\n",
       "autoscout24-href          object\n",
       "description_raw           object\n",
       "price_raw                 object\n",
       "mileage_raw               object\n",
       "fuel_type_raw             object\n",
       "location_raw              object\n",
       "dtype: object"
      ]
     },
     "execution_count": 19,
     "metadata": {},
     "output_type": "execute_result"
    }
   ],
   "source": [
    "# Get data types (note that in pandas, a string is referred to as 'object')\n",
    "df.dtypes"
   ]
  },
  {
   "cell_type": "markdown",
   "metadata": {},
   "source": [
    "### Extract and save relevant information from raw data using regular expressions (regex)"
   ]
  },
  {
   "cell_type": "markdown",
   "metadata": {},
   "source": [
    "### Extract Price"
   ]
  },
  {
   "cell_type": "code",
   "execution_count": 24,
   "metadata": {},
   "outputs": [
    {
     "name": "stdout",
     "output_type": "stream",
     "text": [
      "0    CHF 15'900.–\n",
      "1    CHF 71'900.–\n",
      "2    CHF 37'800.–\n",
      "3    CHF 19'900.–\n",
      "4    CHF 84'500.–\n",
      "Name: price_raw, dtype: object \n",
      "\n",
      "0    15900\n",
      "1    71900\n",
      "2    37800\n",
      "3    19900\n",
      "4    84500\n",
      "Name: price, dtype: int64\n"
     ]
    }
   ],
   "source": [
    "# Extract values from 'price_raw' column\n",
    "price = []\n",
    "for i in df['price_raw']:\n",
    "    d1 = re.findall(r'[0-9]+', str(i))\n",
    "    try:\n",
    "        d2 = ''.join(d1).replace(\"'\", \"\").replace(\"CHF\", \"\").replace(\".-\", \"\").strip()\n",
    "    except:\n",
    "        d2 = None\n",
    "    price.append(d2)\n",
    "\n",
    "# Save as new variable in the pandas data frame\n",
    "df['price'] = pd.Series(price, dtype=\"int\")\n",
    "    \n",
    "# Print first 5 values\n",
    "print(df['price_raw'].head(5), '\\n')\n",
    "print(df['price'].head(5))"
   ]
  },
  {
   "cell_type": "markdown",
   "metadata": {},
   "source": [
    "### Extract Mileage"
   ]
  },
  {
   "cell_type": "code",
   "execution_count": 26,
   "metadata": {},
   "outputs": [
    {
     "name": "stdout",
     "output_type": "stream",
     "text": [
      "0    265'000 km\n",
      "1     14'000 km\n",
      "2     90'000 km\n",
      "3    187'236 km\n",
      "4     16'500 km\n",
      "Name: mileage_raw, dtype: object \n",
      "\n",
      "0    265000\n",
      "1     14000\n",
      "2     90000\n",
      "3    187236\n",
      "4     16500\n",
      "Name: mileage, dtype: int64\n"
     ]
    }
   ],
   "source": [
    "# Extract values from 'mileage_raw' column\n",
    "mileage = []\n",
    "for i in df['mileage_raw']:\n",
    "    d1 = re.findall(r'[0-9]+', str(i))\n",
    "    try:\n",
    "        d2 = ''.join(d1).replace(\"'\", \"\").replace(\"km\", \"\").replace(\".-\", \"\").strip()\n",
    "    except:\n",
    "        d2 = None\n",
    "    mileage.append(d2)\n",
    "\n",
    "# Save as new variable in the pandas data frame\n",
    "df['mileage'] = pd.Series(mileage, dtype=\"int\")\n",
    "    \n",
    "# Print first 5 values\n",
    "print(df['mileage_raw'].head(5), '\\n')\n",
    "print(df['mileage'].head(5))"
   ]
  }
 ],
 "metadata": {
  "kernelspec": {
   "display_name": "Python 3",
   "language": "python",
   "name": "python3"
  },
  "language_info": {
   "codemirror_mode": {
    "name": "ipython",
    "version": 3
   },
   "file_extension": ".py",
   "mimetype": "text/x-python",
   "name": "python",
   "nbconvert_exporter": "python",
   "pygments_lexer": "ipython3",
   "version": "3.11.10"
  }
 },
 "nbformat": 4,
 "nbformat_minor": 2
}
