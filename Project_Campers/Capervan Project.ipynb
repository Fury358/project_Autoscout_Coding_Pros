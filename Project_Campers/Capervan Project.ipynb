{
 "cells": [
  {
   "cell_type": "markdown",
   "metadata": {},
   "source": [
    "# Campervan Projekt"
   ]
  },
  {
   "cell_type": "markdown",
   "metadata": {},
   "source": [
    "## Libraries and settings"
   ]
  },
  {
   "cell_type": "code",
   "execution_count": 59,
   "metadata": {},
   "outputs": [
    {
     "name": "stdout",
     "output_type": "stream",
     "text": [
      "/workspaces/project_Autoscout_Coding_Pros/Project_Campers\n"
     ]
    }
   ],
   "source": [
    "# Libraries\n",
    "import os\n",
    "import re\n",
    "import sqlite3\n",
    "import fnmatch\n",
    "import pprint\n",
    "import requests\n",
    "import numpy as np\n",
    "import pandas as pd\n",
    "\n",
    "import geopandas as gpd\n",
    "\n",
    "from shapely.geometry import Polygon\n",
    "\n",
    "import matplotlib.patches as patches\n",
    "from matplotlib import pyplot as plt\n",
    "\n",
    "# Ignore warnings\n",
    "import warnings\n",
    "warnings.filterwarnings(\"ignore\")\n",
    "\n",
    "# Function to close a sqlite db-connection\n",
    "def check_conn(conn):\n",
    "     try:\n",
    "        conn.cursor()\n",
    "        return True\n",
    "     except Exception as ex:\n",
    "        return False\n",
    "\n",
    "\n",
    "print(os.getcwd())"
   ]
  },
  {
   "cell_type": "markdown",
   "metadata": {},
   "source": [
    "## Import data"
   ]
  },
  {
   "cell_type": "code",
   "execution_count": 60,
   "metadata": {},
   "outputs": [
    {
     "name": "stdout",
     "output_type": "stream",
     "text": [
      "Index(['web-scraper-order', 'web-scraper-start-url', 'autoscout24',\n",
      "       'autoscout24-href', 'description_raw', 'price_raw', 'mileage_raw',\n",
      "       'fuel_type_raw', 'location_raw'],\n",
      "      dtype='object')\n"
     ]
    },
    {
     "data": {
      "text/html": [
       "<div>\n",
       "<style scoped>\n",
       "    .dataframe tbody tr th:only-of-type {\n",
       "        vertical-align: middle;\n",
       "    }\n",
       "\n",
       "    .dataframe tbody tr th {\n",
       "        vertical-align: top;\n",
       "    }\n",
       "\n",
       "    .dataframe thead th {\n",
       "        text-align: right;\n",
       "    }\n",
       "</style>\n",
       "<table border=\"1\" class=\"dataframe\">\n",
       "  <thead>\n",
       "    <tr style=\"text-align: right;\">\n",
       "      <th></th>\n",
       "      <th>web-scraper-order</th>\n",
       "      <th>description_raw</th>\n",
       "      <th>price_raw</th>\n",
       "      <th>mileage_raw</th>\n",
       "      <th>fuel_type_raw</th>\n",
       "      <th>location_raw</th>\n",
       "    </tr>\n",
       "  </thead>\n",
       "  <tbody>\n",
       "    <tr>\n",
       "      <th>0</th>\n",
       "      <td>1733470796-1</td>\n",
       "      <td>MERCEDES-BENZ Camper</td>\n",
       "      <td>CHF 15'900.–</td>\n",
       "      <td>265'000 km</td>\n",
       "      <td>Diesel</td>\n",
       "      <td>Mittelstrasse 38, 3613 Steffisburg</td>\n",
       "    </tr>\n",
       "    <tr>\n",
       "      <th>1</th>\n",
       "      <td>1733470799-2</td>\n",
       "      <td>CARADO I 449 Édition 15 Fiat Capron 169L/1449</td>\n",
       "      <td>CHF 71'900.–</td>\n",
       "      <td>14'000 km</td>\n",
       "      <td>Diesel</td>\n",
       "      <td>Zone industrielle Les Portettes 2c, 1312 Eclépens</td>\n",
       "    </tr>\n",
       "    <tr>\n",
       "      <th>2</th>\n",
       "      <td>1733470801-3</td>\n",
       "      <td>DETHLEFFS Fiat Ducato</td>\n",
       "      <td>CHF 37'800.–</td>\n",
       "      <td>90'000 km</td>\n",
       "      <td>Diesel</td>\n",
       "      <td>Rte du St-Bernard 8, 1937 Orsières</td>\n",
       "    </tr>\n",
       "    <tr>\n",
       "      <th>3</th>\n",
       "      <td>1733470805-4</td>\n",
       "      <td>FIAT Euro Master Wohnmobil</td>\n",
       "      <td>CHF 19'900.–</td>\n",
       "      <td>187'236 km</td>\n",
       "      <td>Diesel</td>\n",
       "      <td>Badenerstrasse 84, 8952 Schlieren</td>\n",
       "    </tr>\n",
       "    <tr>\n",
       "      <th>4</th>\n",
       "      <td>1733470807-5</td>\n",
       "      <td>VW T6.1 California 2.0 TDI Ocean Edition Liber...</td>\n",
       "      <td>CHF 84'500.–</td>\n",
       "      <td>16'500 km</td>\n",
       "      <td>Diesel</td>\n",
       "      <td>8852 Altendorf</td>\n",
       "    </tr>\n",
       "  </tbody>\n",
       "</table>\n",
       "</div>"
      ],
      "text/plain": [
       "  web-scraper-order                                    description_raw  \\\n",
       "0      1733470796-1                               MERCEDES-BENZ Camper   \n",
       "1      1733470799-2      CARADO I 449 Édition 15 Fiat Capron 169L/1449   \n",
       "2      1733470801-3                              DETHLEFFS Fiat Ducato   \n",
       "3      1733470805-4                         FIAT Euro Master Wohnmobil   \n",
       "4      1733470807-5  VW T6.1 California 2.0 TDI Ocean Edition Liber...   \n",
       "\n",
       "      price_raw mileage_raw fuel_type_raw  \\\n",
       "0  CHF 15'900.–  265'000 km        Diesel   \n",
       "1  CHF 71'900.–   14'000 km        Diesel   \n",
       "2  CHF 37'800.–   90'000 km        Diesel   \n",
       "3  CHF 19'900.–  187'236 km        Diesel   \n",
       "4  CHF 84'500.–   16'500 km        Diesel   \n",
       "\n",
       "                                        location_raw  \n",
       "0                 Mittelstrasse 38, 3613 Steffisburg  \n",
       "1  Zone industrielle Les Portettes 2c, 1312 Eclépens  \n",
       "2                 Rte du St-Bernard 8, 1937 Orsières  \n",
       "3                  Badenerstrasse 84, 8952 Schlieren  \n",
       "4                                     8852 Altendorf  "
      ]
     },
     "execution_count": 60,
     "metadata": {},
     "output_type": "execute_result"
    }
   ],
   "source": [
    "# Read data\n",
    "df_orig = pd.read_csv(\"./data/Autoscout24_Camper.csv\", sep=\",\", encoding='utf-8')\n",
    "\n",
    "# Show column names from df_orig\n",
    "print(df_orig.columns)\n",
    "\n",
    "# define the columns to keep\n",
    "colums = ['web-scraper-order',\n",
    "        'description_raw',\n",
    "        'price_raw', \n",
    "        'mileage_raw',\n",
    "       'fuel_type_raw', \n",
    "       'location_raw']\n",
    "\n",
    "# keep only the columns we are interested in\n",
    "df = df_orig[colums]\n",
    "\n",
    "# Show first records of data frame\n",
    "df.head()\n"
   ]
  },
  {
   "cell_type": "markdown",
   "metadata": {},
   "source": [
    "### Count numbre of rows and columns in the dateframe"
   ]
  },
  {
   "cell_type": "code",
   "execution_count": 61,
   "metadata": {},
   "outputs": [
    {
     "name": "stdout",
     "output_type": "stream",
     "text": [
      "Dimension: (1587, 6)\n",
      "Number of rows: 1587\n",
      "Number of columns: 6\n"
     ]
    }
   ],
   "source": [
    "# Dimension (rows, columns)\n",
    "print('Dimension:', df.shape)\n",
    "\n",
    "# Number of rows\n",
    "print('Number of rows:', df.shape[0])\n",
    "\n",
    "# Number of columns\n",
    "print('Number of columns:', df.shape[1])"
   ]
  },
  {
   "cell_type": "markdown",
   "metadata": {},
   "source": [
    "### Get Data types from Web scraping"
   ]
  },
  {
   "cell_type": "code",
   "execution_count": 62,
   "metadata": {},
   "outputs": [
    {
     "data": {
      "text/plain": [
       "web-scraper-order    object\n",
       "description_raw      object\n",
       "price_raw            object\n",
       "mileage_raw          object\n",
       "fuel_type_raw        object\n",
       "location_raw         object\n",
       "dtype: object"
      ]
     },
     "execution_count": 62,
     "metadata": {},
     "output_type": "execute_result"
    }
   ],
   "source": [
    "# Get data types (note that in pandas, a string is referred to as 'object')\n",
    "df.dtypes"
   ]
  },
  {
   "cell_type": "markdown",
   "metadata": {},
   "source": [
    "#### Extract and save relevant information from raw data using regular expressions (regex)"
   ]
  },
  {
   "cell_type": "markdown",
   "metadata": {},
   "source": [
    "### Extract Price"
   ]
  },
  {
   "cell_type": "code",
   "execution_count": 63,
   "metadata": {},
   "outputs": [
    {
     "name": "stdout",
     "output_type": "stream",
     "text": [
      "      price_raw  price\n",
      "0  CHF 15'900.–  15900\n",
      "1  CHF 71'900.–  71900\n",
      "2  CHF 37'800.–  37800\n",
      "3  CHF 19'900.–  19900\n",
      "4  CHF 84'500.–  84500\n"
     ]
    }
   ],
   "source": [
    "# Extract values from 'price_raw' column\n",
    "price = []\n",
    "for i in df['price_raw']:\n",
    "    d1 = re.findall(r'[0-9]+', str(i))\n",
    "    try:\n",
    "        d2 = ''.join(d1).replace(\"'\", \"\").replace(\"CHF\", \"\").replace(\".-\", \"\").strip()\n",
    "    except:\n",
    "        d2 = None\n",
    "    price.append(d2)\n",
    "\n",
    "# Save as new variable in the pandas data frame\n",
    "df['price'] = pd.Series(price, dtype=\"int\")\n",
    "    \n",
    "# Print first 5 values\n",
    "print(df[['price_raw', 'price']].head(5))"
   ]
  },
  {
   "cell_type": "code",
   "execution_count": 64,
   "metadata": {},
   "outputs": [
    {
     "data": {
      "text/html": [
       "<div>\n",
       "<style scoped>\n",
       "    .dataframe tbody tr th:only-of-type {\n",
       "        vertical-align: middle;\n",
       "    }\n",
       "\n",
       "    .dataframe tbody tr th {\n",
       "        vertical-align: top;\n",
       "    }\n",
       "\n",
       "    .dataframe thead th {\n",
       "        text-align: right;\n",
       "    }\n",
       "</style>\n",
       "<table border=\"1\" class=\"dataframe\">\n",
       "  <thead>\n",
       "    <tr style=\"text-align: right;\">\n",
       "      <th></th>\n",
       "      <th>web-scraper-order</th>\n",
       "      <th>description_raw</th>\n",
       "      <th>price_raw</th>\n",
       "      <th>mileage_raw</th>\n",
       "      <th>fuel_type_raw</th>\n",
       "      <th>location_raw</th>\n",
       "      <th>price</th>\n",
       "    </tr>\n",
       "  </thead>\n",
       "  <tbody>\n",
       "    <tr>\n",
       "      <th>0</th>\n",
       "      <td>1733470796-1</td>\n",
       "      <td>MERCEDES-BENZ Camper</td>\n",
       "      <td>CHF 15'900.–</td>\n",
       "      <td>265'000 km</td>\n",
       "      <td>Diesel</td>\n",
       "      <td>Mittelstrasse 38, 3613 Steffisburg</td>\n",
       "      <td>15900</td>\n",
       "    </tr>\n",
       "    <tr>\n",
       "      <th>1</th>\n",
       "      <td>1733470799-2</td>\n",
       "      <td>CARADO I 449 Édition 15 Fiat Capron 169L/1449</td>\n",
       "      <td>CHF 71'900.–</td>\n",
       "      <td>14'000 km</td>\n",
       "      <td>Diesel</td>\n",
       "      <td>Zone industrielle Les Portettes 2c, 1312 Eclépens</td>\n",
       "      <td>71900</td>\n",
       "    </tr>\n",
       "    <tr>\n",
       "      <th>2</th>\n",
       "      <td>1733470801-3</td>\n",
       "      <td>DETHLEFFS Fiat Ducato</td>\n",
       "      <td>CHF 37'800.–</td>\n",
       "      <td>90'000 km</td>\n",
       "      <td>Diesel</td>\n",
       "      <td>Rte du St-Bernard 8, 1937 Orsières</td>\n",
       "      <td>37800</td>\n",
       "    </tr>\n",
       "    <tr>\n",
       "      <th>3</th>\n",
       "      <td>1733470805-4</td>\n",
       "      <td>FIAT Euro Master Wohnmobil</td>\n",
       "      <td>CHF 19'900.–</td>\n",
       "      <td>187'236 km</td>\n",
       "      <td>Diesel</td>\n",
       "      <td>Badenerstrasse 84, 8952 Schlieren</td>\n",
       "      <td>19900</td>\n",
       "    </tr>\n",
       "    <tr>\n",
       "      <th>4</th>\n",
       "      <td>1733470807-5</td>\n",
       "      <td>VW T6.1 California 2.0 TDI Ocean Edition Liber...</td>\n",
       "      <td>CHF 84'500.–</td>\n",
       "      <td>16'500 km</td>\n",
       "      <td>Diesel</td>\n",
       "      <td>8852 Altendorf</td>\n",
       "      <td>84500</td>\n",
       "    </tr>\n",
       "  </tbody>\n",
       "</table>\n",
       "</div>"
      ],
      "text/plain": [
       "  web-scraper-order                                    description_raw  \\\n",
       "0      1733470796-1                               MERCEDES-BENZ Camper   \n",
       "1      1733470799-2      CARADO I 449 Édition 15 Fiat Capron 169L/1449   \n",
       "2      1733470801-3                              DETHLEFFS Fiat Ducato   \n",
       "3      1733470805-4                         FIAT Euro Master Wohnmobil   \n",
       "4      1733470807-5  VW T6.1 California 2.0 TDI Ocean Edition Liber...   \n",
       "\n",
       "      price_raw mileage_raw fuel_type_raw  \\\n",
       "0  CHF 15'900.–  265'000 km        Diesel   \n",
       "1  CHF 71'900.–   14'000 km        Diesel   \n",
       "2  CHF 37'800.–   90'000 km        Diesel   \n",
       "3  CHF 19'900.–  187'236 km        Diesel   \n",
       "4  CHF 84'500.–   16'500 km        Diesel   \n",
       "\n",
       "                                        location_raw  price  \n",
       "0                 Mittelstrasse 38, 3613 Steffisburg  15900  \n",
       "1  Zone industrielle Les Portettes 2c, 1312 Eclépens  71900  \n",
       "2                 Rte du St-Bernard 8, 1937 Orsières  37800  \n",
       "3                  Badenerstrasse 84, 8952 Schlieren  19900  \n",
       "4                                     8852 Altendorf  84500  "
      ]
     },
     "execution_count": 64,
     "metadata": {},
     "output_type": "execute_result"
    }
   ],
   "source": [
    "df.head()"
   ]
  },
  {
   "cell_type": "markdown",
   "metadata": {},
   "source": [
    "### Extract Mileage"
   ]
  },
  {
   "cell_type": "code",
   "execution_count": 65,
   "metadata": {},
   "outputs": [
    {
     "name": "stdout",
     "output_type": "stream",
     "text": [
      "  mileage_raw  mileage\n",
      "0  265'000 km   265000\n",
      "1   14'000 km    14000\n",
      "2   90'000 km    90000\n",
      "3  187'236 km   187236\n",
      "4   16'500 km    16500\n"
     ]
    }
   ],
   "source": [
    "# Extract values from 'mileage_raw' column\n",
    "mileage = []\n",
    "for i in df['mileage_raw']:\n",
    "    d1 = re.findall(r'[0-9]+', str(i))\n",
    "    try:\n",
    "        d2 = ''.join(d1).replace(\"'\", \"\").replace(\"km\", \"\").replace(\".-\", \"\").strip()\n",
    "    except:\n",
    "        d2 = None\n",
    "    mileage.append(d2)\n",
    "\n",
    "# Save as new variable in the pandas data frame\n",
    "df['mileage'] = pd.Series(mileage, dtype=\"int\")\n",
    "    \n",
    "# Print first 5 values\n",
    "print(df[['mileage_raw','mileage']].head(5))"
   ]
  },
  {
   "cell_type": "code",
   "execution_count": 66,
   "metadata": {},
   "outputs": [
    {
     "data": {
      "text/plain": [
       "web-scraper-order    object\n",
       "description_raw      object\n",
       "price_raw            object\n",
       "mileage_raw          object\n",
       "fuel_type_raw        object\n",
       "location_raw         object\n",
       "price                 int64\n",
       "mileage               int64\n",
       "dtype: object"
      ]
     },
     "execution_count": 66,
     "metadata": {},
     "output_type": "execute_result"
    }
   ],
   "source": [
    "df.dtypes"
   ]
  },
  {
   "cell_type": "markdown",
   "metadata": {},
   "source": [
    "### Fuel Type without Outliers"
   ]
  },
  {
   "cell_type": "code",
   "execution_count": 67,
   "metadata": {},
   "outputs": [
    {
     "data": {
      "text/plain": [
       "fuel_type_raw\n",
       "Diesel     1453\n",
       "Benzin       72\n",
       "-            61\n",
       "Elektro       1\n",
       "Name: count, dtype: int64"
      ]
     },
     "execution_count": 67,
     "metadata": {},
     "output_type": "execute_result"
    }
   ],
   "source": [
    "#count frequency of values in column 'fuel_type_raw'\n",
    "df['fuel_type_raw'].value_counts()"
   ]
  },
  {
   "cell_type": "code",
   "execution_count": 68,
   "metadata": {},
   "outputs": [
    {
     "name": "stdout",
     "output_type": "stream",
     "text": [
      "fuel_type_raw\n",
      "Diesel    1453\n",
      "Benzin      72\n",
      "Name: count, dtype: int64\n"
     ]
    }
   ],
   "source": [
    "# Filter für Diesel und Benzin\n",
    "df = df[(df['fuel_type_raw'] == 'Diesel') | (df['fuel_type_raw'] == 'Benzin')]\n",
    "\n",
    "count = df['fuel_type_raw'].value_counts()\n",
    "print(count)"
   ]
  },
  {
   "cell_type": "markdown",
   "metadata": {},
   "source": [
    "### Piechart for fueltype"
   ]
  },
  {
   "cell_type": "code",
   "execution_count": 69,
   "metadata": {},
   "outputs": [
    {
     "data": {
      "image/png": "[encoded data removed]",
      "text/plain": [
       "<Figure size 640x480 with 1 Axes>"
      ]
     },
     "metadata": {},
     "output_type": "display_data"
    }
   ],
   "source": [
    "# get a pie chart for the fuel types\n",
    "fig, ax = plt.subplots()\n",
    "ax.pie(count, labels=count.index, autopct='%1.1f%%')\n",
    "plt.show()\n"
   ]
  },
  {
   "cell_type": "markdown",
   "metadata": {},
   "source": [
    "### Fuel type to Dummy"
   ]
  },
  {
   "cell_type": "code",
   "execution_count": 70,
   "metadata": {},
   "outputs": [
    {
     "data": {
      "text/html": [
       "<div>\n",
       "<style scoped>\n",
       "    .dataframe tbody tr th:only-of-type {\n",
       "        vertical-align: middle;\n",
       "    }\n",
       "\n",
       "    .dataframe tbody tr th {\n",
       "        vertical-align: top;\n",
       "    }\n",
       "\n",
       "    .dataframe thead th {\n",
       "        text-align: right;\n",
       "    }\n",
       "</style>\n",
       "<table border=\"1\" class=\"dataframe\">\n",
       "  <thead>\n",
       "    <tr style=\"text-align: right;\">\n",
       "      <th></th>\n",
       "      <th>web-scraper-order</th>\n",
       "      <th>description_raw</th>\n",
       "      <th>price_raw</th>\n",
       "      <th>mileage_raw</th>\n",
       "      <th>fuel_type_raw</th>\n",
       "      <th>location_raw</th>\n",
       "      <th>price</th>\n",
       "      <th>mileage</th>\n",
       "      <th>fuel_type_Diesel</th>\n",
       "    </tr>\n",
       "  </thead>\n",
       "  <tbody>\n",
       "    <tr>\n",
       "      <th>0</th>\n",
       "      <td>1733470796-1</td>\n",
       "      <td>MERCEDES-BENZ Camper</td>\n",
       "      <td>CHF 15'900.–</td>\n",
       "      <td>265'000 km</td>\n",
       "      <td>Diesel</td>\n",
       "      <td>Mittelstrasse 38, 3613 Steffisburg</td>\n",
       "      <td>15900</td>\n",
       "      <td>265000</td>\n",
       "      <td>1</td>\n",
       "    </tr>\n",
       "    <tr>\n",
       "      <th>1</th>\n",
       "      <td>1733470799-2</td>\n",
       "      <td>CARADO I 449 Édition 15 Fiat Capron 169L/1449</td>\n",
       "      <td>CHF 71'900.–</td>\n",
       "      <td>14'000 km</td>\n",
       "      <td>Diesel</td>\n",
       "      <td>Zone industrielle Les Portettes 2c, 1312 Eclépens</td>\n",
       "      <td>71900</td>\n",
       "      <td>14000</td>\n",
       "      <td>1</td>\n",
       "    </tr>\n",
       "    <tr>\n",
       "      <th>2</th>\n",
       "      <td>1733470801-3</td>\n",
       "      <td>DETHLEFFS Fiat Ducato</td>\n",
       "      <td>CHF 37'800.–</td>\n",
       "      <td>90'000 km</td>\n",
       "      <td>Diesel</td>\n",
       "      <td>Rte du St-Bernard 8, 1937 Orsières</td>\n",
       "      <td>37800</td>\n",
       "      <td>90000</td>\n",
       "      <td>1</td>\n",
       "    </tr>\n",
       "    <tr>\n",
       "      <th>3</th>\n",
       "      <td>1733470805-4</td>\n",
       "      <td>FIAT Euro Master Wohnmobil</td>\n",
       "      <td>CHF 19'900.–</td>\n",
       "      <td>187'236 km</td>\n",
       "      <td>Diesel</td>\n",
       "      <td>Badenerstrasse 84, 8952 Schlieren</td>\n",
       "      <td>19900</td>\n",
       "      <td>187236</td>\n",
       "      <td>1</td>\n",
       "    </tr>\n",
       "    <tr>\n",
       "      <th>4</th>\n",
       "      <td>1733470807-5</td>\n",
       "      <td>VW T6.1 California 2.0 TDI Ocean Edition Liber...</td>\n",
       "      <td>CHF 84'500.–</td>\n",
       "      <td>16'500 km</td>\n",
       "      <td>Diesel</td>\n",
       "      <td>8852 Altendorf</td>\n",
       "      <td>84500</td>\n",
       "      <td>16500</td>\n",
       "      <td>1</td>\n",
       "    </tr>\n",
       "  </tbody>\n",
       "</table>\n",
       "</div>"
      ],
      "text/plain": [
       "  web-scraper-order                                    description_raw  \\\n",
       "0      1733470796-1                               MERCEDES-BENZ Camper   \n",
       "1      1733470799-2      CARADO I 449 Édition 15 Fiat Capron 169L/1449   \n",
       "2      1733470801-3                              DETHLEFFS Fiat Ducato   \n",
       "3      1733470805-4                         FIAT Euro Master Wohnmobil   \n",
       "4      1733470807-5  VW T6.1 California 2.0 TDI Ocean Edition Liber...   \n",
       "\n",
       "      price_raw mileage_raw fuel_type_raw  \\\n",
       "0  CHF 15'900.–  265'000 km        Diesel   \n",
       "1  CHF 71'900.–   14'000 km        Diesel   \n",
       "2  CHF 37'800.–   90'000 km        Diesel   \n",
       "3  CHF 19'900.–  187'236 km        Diesel   \n",
       "4  CHF 84'500.–   16'500 km        Diesel   \n",
       "\n",
       "                                        location_raw  price  mileage  \\\n",
       "0                 Mittelstrasse 38, 3613 Steffisburg  15900   265000   \n",
       "1  Zone industrielle Les Portettes 2c, 1312 Eclépens  71900    14000   \n",
       "2                 Rte du St-Bernard 8, 1937 Orsières  37800    90000   \n",
       "3                  Badenerstrasse 84, 8952 Schlieren  19900   187236   \n",
       "4                                     8852 Altendorf  84500    16500   \n",
       "\n",
       "   fuel_type_Diesel  \n",
       "0                 1  \n",
       "1                 1  \n",
       "2                 1  \n",
       "3                 1  \n",
       "4                 1  "
      ]
     },
     "execution_count": 70,
     "metadata": {},
     "output_type": "execute_result"
    }
   ],
   "source": [
    "# One-Hot-Encoding für die Spalte 'fuel_type_raw'\n",
    "df_encoded = pd.get_dummies(df['fuel_type_raw'], prefix='fuel_type', drop_first=True)\n",
    "\n",
    "# Konvertiere boolesche Werte in 0 und 1 (falls vorhanden)\n",
    "bool_columns = df_encoded.select_dtypes(include=['bool']).columns\n",
    "df_encoded[bool_columns] = df_encoded[bool_columns].astype(int)\n",
    "\n",
    "# Füge nur die neuen One-Hot-encoded Spalten dem ursprünglichen DataFrame hinzu\n",
    "df = df.join(df_encoded)\n",
    "\n",
    "# Überprüfe das Ergebnis\n",
    "df.head()"
   ]
  },
  {
   "cell_type": "markdown",
   "metadata": {},
   "source": [
    "### Count and identify missing values"
   ]
  },
  {
   "cell_type": "code",
   "execution_count": 71,
   "metadata": {},
   "outputs": [
    {
     "name": "stdout",
     "output_type": "stream",
     "text": [
      "web-scraper-order    0\n",
      "description_raw      0\n",
      "price_raw            0\n",
      "mileage_raw          0\n",
      "fuel_type_raw        0\n",
      "location_raw         0\n",
      "price                0\n",
      "mileage              0\n",
      "fuel_type_Diesel     0\n",
      "dtype: int64\n"
     ]
    },
    {
     "data": {
      "text/html": [
       "<div>\n",
       "<style scoped>\n",
       "    .dataframe tbody tr th:only-of-type {\n",
       "        vertical-align: middle;\n",
       "    }\n",
       "\n",
       "    .dataframe tbody tr th {\n",
       "        vertical-align: top;\n",
       "    }\n",
       "\n",
       "    .dataframe thead th {\n",
       "        text-align: right;\n",
       "    }\n",
       "</style>\n",
       "<table border=\"1\" class=\"dataframe\">\n",
       "  <thead>\n",
       "    <tr style=\"text-align: right;\">\n",
       "      <th></th>\n",
       "      <th>web-scraper-order</th>\n",
       "      <th>description_raw</th>\n",
       "      <th>price_raw</th>\n",
       "      <th>mileage_raw</th>\n",
       "      <th>fuel_type_raw</th>\n",
       "      <th>location_raw</th>\n",
       "      <th>price</th>\n",
       "      <th>mileage</th>\n",
       "      <th>fuel_type_Diesel</th>\n",
       "    </tr>\n",
       "  </thead>\n",
       "  <tbody>\n",
       "  </tbody>\n",
       "</table>\n",
       "</div>"
      ],
      "text/plain": [
       "Empty DataFrame\n",
       "Columns: [web-scraper-order, description_raw, price_raw, mileage_raw, fuel_type_raw, location_raw, price, mileage, fuel_type_Diesel]\n",
       "Index: []"
      ]
     },
     "execution_count": 71,
     "metadata": {},
     "output_type": "execute_result"
    }
   ],
   "source": [
    "# Count missing values\n",
    "print(pd.isna(df).sum())\n",
    "\n",
    "# Identify rows with missing values\n",
    "df[df.isna().any(axis=1)].head()"
   ]
  },
  {
   "cell_type": "markdown",
   "metadata": {},
   "source": [
    "## Count and identify duplicated values (if any)"
   ]
  },
  {
   "cell_type": "code",
   "execution_count": 72,
   "metadata": {},
   "outputs": [
    {
     "name": "stdout",
     "output_type": "stream",
     "text": [
      "0\n"
     ]
    },
    {
     "data": {
      "text/html": [
       "<div>\n",
       "<style scoped>\n",
       "    .dataframe tbody tr th:only-of-type {\n",
       "        vertical-align: middle;\n",
       "    }\n",
       "\n",
       "    .dataframe tbody tr th {\n",
       "        vertical-align: top;\n",
       "    }\n",
       "\n",
       "    .dataframe thead th {\n",
       "        text-align: right;\n",
       "    }\n",
       "</style>\n",
       "<table border=\"1\" class=\"dataframe\">\n",
       "  <thead>\n",
       "    <tr style=\"text-align: right;\">\n",
       "      <th></th>\n",
       "      <th>web-scraper-order</th>\n",
       "      <th>description_raw</th>\n",
       "      <th>price_raw</th>\n",
       "      <th>mileage_raw</th>\n",
       "      <th>fuel_type_raw</th>\n",
       "      <th>location_raw</th>\n",
       "      <th>price</th>\n",
       "      <th>mileage</th>\n",
       "      <th>fuel_type_Diesel</th>\n",
       "    </tr>\n",
       "  </thead>\n",
       "  <tbody>\n",
       "  </tbody>\n",
       "</table>\n",
       "</div>"
      ],
      "text/plain": [
       "Empty DataFrame\n",
       "Columns: [web-scraper-order, description_raw, price_raw, mileage_raw, fuel_type_raw, location_raw, price, mileage, fuel_type_Diesel]\n",
       "Index: []"
      ]
     },
     "execution_count": 72,
     "metadata": {},
     "output_type": "execute_result"
    }
   ],
   "source": [
    "# Count duplicated values\n",
    "print(df.duplicated().sum())\n",
    "\n",
    "# Identify rows with duplicated values, e.g.:\n",
    "df[df[['web-scraper-order', 'description_raw', 'price_raw', 'mileage_raw' ]].duplicated()]"
   ]
  },
  {
   "cell_type": "markdown",
   "metadata": {},
   "source": [
    "## Save to Datafile"
   ]
  },
  {
   "cell_type": "code",
   "execution_count": 73,
   "metadata": {},
   "outputs": [],
   "source": [
    "df.to_csv('./data/Camper_data_prepared.csv', \n",
    "          sep=\",\", \n",
    "          encoding='utf-8',\n",
    "          index=False)"
   ]
  },
  {
   "cell_type": "code",
   "execution_count": 74,
   "metadata": {},
   "outputs": [
    {
     "data": {
      "text/html": [
       "<div>\n",
       "<style scoped>\n",
       "    .dataframe tbody tr th:only-of-type {\n",
       "        vertical-align: middle;\n",
       "    }\n",
       "\n",
       "    .dataframe tbody tr th {\n",
       "        vertical-align: top;\n",
       "    }\n",
       "\n",
       "    .dataframe thead th {\n",
       "        text-align: right;\n",
       "    }\n",
       "</style>\n",
       "<table border=\"1\" class=\"dataframe\">\n",
       "  <thead>\n",
       "    <tr style=\"text-align: right;\">\n",
       "      <th></th>\n",
       "      <th>price</th>\n",
       "      <th>mileage</th>\n",
       "      <th>fuel_type_Diesel</th>\n",
       "    </tr>\n",
       "  </thead>\n",
       "  <tbody>\n",
       "    <tr>\n",
       "      <th>count</th>\n",
       "      <td>1525.000000</td>\n",
       "      <td>1525.000000</td>\n",
       "      <td>1525.000000</td>\n",
       "    </tr>\n",
       "    <tr>\n",
       "      <th>mean</th>\n",
       "      <td>56041.168525</td>\n",
       "      <td>74055.251148</td>\n",
       "      <td>0.952787</td>\n",
       "    </tr>\n",
       "    <tr>\n",
       "      <th>std</th>\n",
       "      <td>38267.724371</td>\n",
       "      <td>64241.779780</td>\n",
       "      <td>0.212164</td>\n",
       "    </tr>\n",
       "    <tr>\n",
       "      <th>min</th>\n",
       "      <td>900.000000</td>\n",
       "      <td>10000.000000</td>\n",
       "      <td>0.000000</td>\n",
       "    </tr>\n",
       "    <tr>\n",
       "      <th>25%</th>\n",
       "      <td>37900.000000</td>\n",
       "      <td>27500.000000</td>\n",
       "      <td>1.000000</td>\n",
       "    </tr>\n",
       "    <tr>\n",
       "      <th>50%</th>\n",
       "      <td>53900.000000</td>\n",
       "      <td>53000.000000</td>\n",
       "      <td>1.000000</td>\n",
       "    </tr>\n",
       "    <tr>\n",
       "      <th>75%</th>\n",
       "      <td>65997.000000</td>\n",
       "      <td>100500.000000</td>\n",
       "      <td>1.000000</td>\n",
       "    </tr>\n",
       "    <tr>\n",
       "      <th>max</th>\n",
       "      <td>499000.000000</td>\n",
       "      <td>450000.000000</td>\n",
       "      <td>1.000000</td>\n",
       "    </tr>\n",
       "  </tbody>\n",
       "</table>\n",
       "</div>"
      ],
      "text/plain": [
       "               price        mileage  fuel_type_Diesel\n",
       "count    1525.000000    1525.000000       1525.000000\n",
       "mean    56041.168525   74055.251148          0.952787\n",
       "std     38267.724371   64241.779780          0.212164\n",
       "min       900.000000   10000.000000          0.000000\n",
       "25%     37900.000000   27500.000000          1.000000\n",
       "50%     53900.000000   53000.000000          1.000000\n",
       "75%     65997.000000  100500.000000          1.000000\n",
       "max    499000.000000  450000.000000          1.000000"
      ]
     },
     "execution_count": 74,
     "metadata": {},
     "output_type": "execute_result"
    }
   ],
   "source": [
    "df.describe()"
   ]
  },
  {
   "cell_type": "markdown",
   "metadata": {},
   "source": [
    "## Create SQLite Database"
   ]
  },
  {
   "cell_type": "code",
   "execution_count": 75,
   "metadata": {},
   "outputs": [],
   "source": [
    "# Create a connection to the database\n",
    "conn = sqlite3.connect('./data/Camper.db')\n",
    "\n",
    "# Check if the connection was successful\n",
    "check_conn(conn)\n",
    "\n",
    "# Create a cursor object to execute SQL queries\n",
    "cursor = conn.cursor()\n",
    "\n",
    "# Show dbs in the directory\n",
    "flist = fnmatch.filter(os.listdir('.'), '*.db')\n",
    "for i in flist:\n",
    "    print(i)"
   ]
  },
  {
   "cell_type": "markdown",
   "metadata": {},
   "source": [
    "## Create SQL-Table in the database"
   ]
  },
  {
   "cell_type": "code",
   "execution_count": 76,
   "metadata": {},
   "outputs": [
    {
     "name": "stdout",
     "output_type": "stream",
     "text": [
      "(1525, 9)\n"
     ]
    }
   ],
   "source": [
    "cursor.execute(\"DROP TABLE IF EXISTS Camper\")\n",
    "\n",
    "# Create a table\n",
    "cursor.execute(\"\"\"CREATE TABLE Camper (\n",
    "                web_scraper_order TEXT,\n",
    "                description_raw TEXT,\n",
    "                price_raw TEXT,\n",
    "                mileage_raw TEXT,\n",
    "                location_raw TEXT,\n",
    "                price INTEGER,\n",
    "                mileage INTEGER,\n",
    "                fuel_type_raw TEXT,\n",
    "                fuel_type_Diesel INTEGER\n",
    "                )\"\"\")\n",
    "\n",
    "# Commit the changes\n",
    "conn.commit()\n",
    "\n",
    "# Read the data from the CSV file\n",
    "df = pd.read_csv('./data/Camper_data_prepared.csv', \n",
    "                 sep=\",\", \n",
    "                 encoding='utf-8')[['web-scraper-order',\n",
    "                                    'description_raw',\n",
    "                                    'price_raw', \n",
    "                                    'mileage_raw',\n",
    "                                    'fuel_type_raw', \n",
    "                                    'location_raw',\n",
    "                                    'price', \n",
    "                                    'mileage',  \n",
    "                                    'fuel_type_Diesel']]\n",
    "print(df.shape)\n"
   ]
  },
  {
   "cell_type": "code",
   "execution_count": 77,
   "metadata": {},
   "outputs": [
    {
     "data": {
      "text/html": [
       "<div>\n",
       "<style scoped>\n",
       "    .dataframe tbody tr th:only-of-type {\n",
       "        vertical-align: middle;\n",
       "    }\n",
       "\n",
       "    .dataframe tbody tr th {\n",
       "        vertical-align: top;\n",
       "    }\n",
       "\n",
       "    .dataframe thead th {\n",
       "        text-align: right;\n",
       "    }\n",
       "</style>\n",
       "<table border=\"1\" class=\"dataframe\">\n",
       "  <thead>\n",
       "    <tr style=\"text-align: right;\">\n",
       "      <th></th>\n",
       "      <th>web-scraper-order</th>\n",
       "      <th>description_raw</th>\n",
       "      <th>price_raw</th>\n",
       "      <th>mileage_raw</th>\n",
       "      <th>fuel_type_raw</th>\n",
       "      <th>location_raw</th>\n",
       "      <th>price</th>\n",
       "      <th>mileage</th>\n",
       "      <th>fuel_type_Diesel</th>\n",
       "    </tr>\n",
       "  </thead>\n",
       "  <tbody>\n",
       "    <tr>\n",
       "      <th>0</th>\n",
       "      <td>1733470796-1</td>\n",
       "      <td>MERCEDES-BENZ Camper</td>\n",
       "      <td>CHF 15'900.–</td>\n",
       "      <td>265'000 km</td>\n",
       "      <td>Diesel</td>\n",
       "      <td>Mittelstrasse 38, 3613 Steffisburg</td>\n",
       "      <td>15900</td>\n",
       "      <td>265000</td>\n",
       "      <td>1</td>\n",
       "    </tr>\n",
       "    <tr>\n",
       "      <th>1</th>\n",
       "      <td>1733470799-2</td>\n",
       "      <td>CARADO I 449 Édition 15 Fiat Capron 169L/1449</td>\n",
       "      <td>CHF 71'900.–</td>\n",
       "      <td>14'000 km</td>\n",
       "      <td>Diesel</td>\n",
       "      <td>Zone industrielle Les Portettes 2c, 1312 Eclépens</td>\n",
       "      <td>71900</td>\n",
       "      <td>14000</td>\n",
       "      <td>1</td>\n",
       "    </tr>\n",
       "    <tr>\n",
       "      <th>2</th>\n",
       "      <td>1733470801-3</td>\n",
       "      <td>DETHLEFFS Fiat Ducato</td>\n",
       "      <td>CHF 37'800.–</td>\n",
       "      <td>90'000 km</td>\n",
       "      <td>Diesel</td>\n",
       "      <td>Rte du St-Bernard 8, 1937 Orsières</td>\n",
       "      <td>37800</td>\n",
       "      <td>90000</td>\n",
       "      <td>1</td>\n",
       "    </tr>\n",
       "    <tr>\n",
       "      <th>3</th>\n",
       "      <td>1733470805-4</td>\n",
       "      <td>FIAT Euro Master Wohnmobil</td>\n",
       "      <td>CHF 19'900.–</td>\n",
       "      <td>187'236 km</td>\n",
       "      <td>Diesel</td>\n",
       "      <td>Badenerstrasse 84, 8952 Schlieren</td>\n",
       "      <td>19900</td>\n",
       "      <td>187236</td>\n",
       "      <td>1</td>\n",
       "    </tr>\n",
       "    <tr>\n",
       "      <th>4</th>\n",
       "      <td>1733470807-5</td>\n",
       "      <td>VW T6.1 California 2.0 TDI Ocean Edition Liber...</td>\n",
       "      <td>CHF 84'500.–</td>\n",
       "      <td>16'500 km</td>\n",
       "      <td>Diesel</td>\n",
       "      <td>8852 Altendorf</td>\n",
       "      <td>84500</td>\n",
       "      <td>16500</td>\n",
       "      <td>1</td>\n",
       "    </tr>\n",
       "  </tbody>\n",
       "</table>\n",
       "</div>"
      ],
      "text/plain": [
       "  web-scraper-order                                    description_raw  \\\n",
       "0      1733470796-1                               MERCEDES-BENZ Camper   \n",
       "1      1733470799-2      CARADO I 449 Édition 15 Fiat Capron 169L/1449   \n",
       "2      1733470801-3                              DETHLEFFS Fiat Ducato   \n",
       "3      1733470805-4                         FIAT Euro Master Wohnmobil   \n",
       "4      1733470807-5  VW T6.1 California 2.0 TDI Ocean Edition Liber...   \n",
       "\n",
       "      price_raw mileage_raw fuel_type_raw  \\\n",
       "0  CHF 15'900.–  265'000 km        Diesel   \n",
       "1  CHF 71'900.–   14'000 km        Diesel   \n",
       "2  CHF 37'800.–   90'000 km        Diesel   \n",
       "3  CHF 19'900.–  187'236 km        Diesel   \n",
       "4  CHF 84'500.–   16'500 km        Diesel   \n",
       "\n",
       "                                        location_raw  price  mileage  \\\n",
       "0                 Mittelstrasse 38, 3613 Steffisburg  15900   265000   \n",
       "1  Zone industrielle Les Portettes 2c, 1312 Eclépens  71900    14000   \n",
       "2                 Rte du St-Bernard 8, 1937 Orsières  37800    90000   \n",
       "3                  Badenerstrasse 84, 8952 Schlieren  19900   187236   \n",
       "4                                     8852 Altendorf  84500    16500   \n",
       "\n",
       "   fuel_type_Diesel  \n",
       "0                 1  \n",
       "1                 1  \n",
       "2                 1  \n",
       "3                 1  \n",
       "4                 1  "
      ]
     },
     "execution_count": 77,
     "metadata": {},
     "output_type": "execute_result"
    }
   ],
   "source": [
    "df.head(5)"
   ]
  },
  {
   "cell_type": "markdown",
   "metadata": {},
   "source": [
    "## Write data to the SQL-table in data base"
   ]
  },
  {
   "cell_type": "code",
   "execution_count": 78,
   "metadata": {},
   "outputs": [
    {
     "data": {
      "text/plain": [
       "1525"
      ]
     },
     "execution_count": 78,
     "metadata": {},
     "output_type": "execute_result"
    }
   ],
   "source": [
    "df.to_sql(name = 'campervans_table',\n",
    "          con = conn,\n",
    "          index = False,\n",
    "          if_exists = 'replace')"
   ]
  },
  {
   "cell_type": "markdown",
   "metadata": {},
   "source": [
    "## Query the SQL-table"
   ]
  },
  {
   "cell_type": "code",
   "execution_count": 79,
   "metadata": {},
   "outputs": [
    {
     "name": "stdout",
     "output_type": "stream",
     "text": [
      "web-scraper-order    1525\n",
      "description_raw      1525\n",
      "price_raw            1525\n",
      "mileage_raw          1525\n",
      "fuel_type_raw        1525\n",
      "location_raw         1525\n",
      "price                1525\n",
      "mileage              1525\n",
      "fuel_type_Diesel     1525\n",
      "dtype: int64\n"
     ]
    },
    {
     "data": {
      "text/html": [
       "<div>\n",
       "<style scoped>\n",
       "    .dataframe tbody tr th:only-of-type {\n",
       "        vertical-align: middle;\n",
       "    }\n",
       "\n",
       "    .dataframe tbody tr th {\n",
       "        vertical-align: top;\n",
       "    }\n",
       "\n",
       "    .dataframe thead th {\n",
       "        text-align: right;\n",
       "    }\n",
       "</style>\n",
       "<table border=\"1\" class=\"dataframe\">\n",
       "  <thead>\n",
       "    <tr style=\"text-align: right;\">\n",
       "      <th></th>\n",
       "      <th>web-scraper-order</th>\n",
       "      <th>description_raw</th>\n",
       "      <th>price_raw</th>\n",
       "      <th>mileage_raw</th>\n",
       "      <th>fuel_type_raw</th>\n",
       "      <th>location_raw</th>\n",
       "      <th>price</th>\n",
       "      <th>mileage</th>\n",
       "      <th>fuel_type_Diesel</th>\n",
       "    </tr>\n",
       "  </thead>\n",
       "  <tbody>\n",
       "    <tr>\n",
       "      <th>0</th>\n",
       "      <td>1733470796-1</td>\n",
       "      <td>MERCEDES-BENZ Camper</td>\n",
       "      <td>CHF 15'900.–</td>\n",
       "      <td>265'000 km</td>\n",
       "      <td>Diesel</td>\n",
       "      <td>Mittelstrasse 38, 3613 Steffisburg</td>\n",
       "      <td>15900</td>\n",
       "      <td>265000</td>\n",
       "      <td>1</td>\n",
       "    </tr>\n",
       "    <tr>\n",
       "      <th>1</th>\n",
       "      <td>1733470799-2</td>\n",
       "      <td>CARADO I 449 Édition 15 Fiat Capron 169L/1449</td>\n",
       "      <td>CHF 71'900.–</td>\n",
       "      <td>14'000 km</td>\n",
       "      <td>Diesel</td>\n",
       "      <td>Zone industrielle Les Portettes 2c, 1312 Eclépens</td>\n",
       "      <td>71900</td>\n",
       "      <td>14000</td>\n",
       "      <td>1</td>\n",
       "    </tr>\n",
       "    <tr>\n",
       "      <th>2</th>\n",
       "      <td>1733470801-3</td>\n",
       "      <td>DETHLEFFS Fiat Ducato</td>\n",
       "      <td>CHF 37'800.–</td>\n",
       "      <td>90'000 km</td>\n",
       "      <td>Diesel</td>\n",
       "      <td>Rte du St-Bernard 8, 1937 Orsières</td>\n",
       "      <td>37800</td>\n",
       "      <td>90000</td>\n",
       "      <td>1</td>\n",
       "    </tr>\n",
       "    <tr>\n",
       "      <th>3</th>\n",
       "      <td>1733470805-4</td>\n",
       "      <td>FIAT Euro Master Wohnmobil</td>\n",
       "      <td>CHF 19'900.–</td>\n",
       "      <td>187'236 km</td>\n",
       "      <td>Diesel</td>\n",
       "      <td>Badenerstrasse 84, 8952 Schlieren</td>\n",
       "      <td>19900</td>\n",
       "      <td>187236</td>\n",
       "      <td>1</td>\n",
       "    </tr>\n",
       "    <tr>\n",
       "      <th>4</th>\n",
       "      <td>1733470807-5</td>\n",
       "      <td>VW T6.1 California 2.0 TDI Ocean Edition Liber...</td>\n",
       "      <td>CHF 84'500.–</td>\n",
       "      <td>16'500 km</td>\n",
       "      <td>Diesel</td>\n",
       "      <td>8852 Altendorf</td>\n",
       "      <td>84500</td>\n",
       "      <td>16500</td>\n",
       "      <td>1</td>\n",
       "    </tr>\n",
       "  </tbody>\n",
       "</table>\n",
       "</div>"
      ],
      "text/plain": [
       "  web-scraper-order                                    description_raw  \\\n",
       "0      1733470796-1                               MERCEDES-BENZ Camper   \n",
       "1      1733470799-2      CARADO I 449 Édition 15 Fiat Capron 169L/1449   \n",
       "2      1733470801-3                              DETHLEFFS Fiat Ducato   \n",
       "3      1733470805-4                         FIAT Euro Master Wohnmobil   \n",
       "4      1733470807-5  VW T6.1 California 2.0 TDI Ocean Edition Liber...   \n",
       "\n",
       "      price_raw mileage_raw fuel_type_raw  \\\n",
       "0  CHF 15'900.–  265'000 km        Diesel   \n",
       "1  CHF 71'900.–   14'000 km        Diesel   \n",
       "2  CHF 37'800.–   90'000 km        Diesel   \n",
       "3  CHF 19'900.–  187'236 km        Diesel   \n",
       "4  CHF 84'500.–   16'500 km        Diesel   \n",
       "\n",
       "                                        location_raw  price  mileage  \\\n",
       "0                 Mittelstrasse 38, 3613 Steffisburg  15900   265000   \n",
       "1  Zone industrielle Les Portettes 2c, 1312 Eclépens  71900    14000   \n",
       "2                 Rte du St-Bernard 8, 1937 Orsières  37800    90000   \n",
       "3                  Badenerstrasse 84, 8952 Schlieren  19900   187236   \n",
       "4                                     8852 Altendorf  84500    16500   \n",
       "\n",
       "   fuel_type_Diesel  \n",
       "0                 1  \n",
       "1                 1  \n",
       "2                 1  \n",
       "3                 1  \n",
       "4                 1  "
      ]
     },
     "execution_count": 79,
     "metadata": {},
     "output_type": "execute_result"
    }
   ],
   "source": [
    "# Query the SQL-table\n",
    "cursor.execute('''SELECT *\n",
    "               FROM campervans_table\n",
    "               WHERE price <=1000000''')\n",
    "\n",
    "df = pd.DataFrame(cursor.fetchall(), \n",
    "                  columns=['web-scraper-order',\n",
    "                                    'description_raw',\n",
    "                                    'price_raw', \n",
    "                                    'mileage_raw',\n",
    "                                    'fuel_type_raw', \n",
    "                                    'location_raw',\n",
    "                                    'price', \n",
    "                                    'mileage',  \n",
    "                                    'fuel_type_Diesel'])\n",
    "print(df.count())\n",
    "df.head()"
   ]
  },
  {
   "cell_type": "markdown",
   "metadata": {},
   "source": [
    "## Plot Histogram of Prices"
   ]
  },
  {
   "cell_type": "code",
   "execution_count": 80,
   "metadata": {},
   "outputs": [
    {
     "data": {
      "image/png": "[encoded data removed]",
      "text/plain": [
       "<Figure size 700x400 with 1 Axes>"
      ]
     },
     "metadata": {},
     "output_type": "display_data"
    }
   ],
   "source": [
    "# Create a histogram\n",
    "plt.figure(figsize=(7,4))\n",
    "df.price.plot.hist(grid=True, \n",
    "                   bins=20, \n",
    "                   rwidth=0.9,\n",
    "                   color='#607c8e')\n",
    "plt.title('Campervan price')\n",
    "plt.xlabel('Price')\n",
    "plt.ylabel('Frequency')\n",
    "plt.grid(axis='y', alpha=0.75)"
   ]
  },
  {
   "cell_type": "markdown",
   "metadata": {},
   "source": [
    "## Close db connection (if open)"
   ]
  },
  {
   "cell_type": "code",
   "execution_count": 81,
   "metadata": {},
   "outputs": [
    {
     "name": "stdout",
     "output_type": "stream",
     "text": [
      "False\n"
     ]
    }
   ],
   "source": [
    "# Close db connection (if open)\n",
    "try:\n",
    "    if check_conn(conn):\n",
    "        conn.close()\n",
    "    else:\n",
    "        pass\n",
    "except:\n",
    "    pass\n",
    "\n",
    "# Status (True = open, False = closed)\n",
    "print(check_conn(conn))"
   ]
  },
  {
   "cell_type": "markdown",
   "metadata": {},
   "source": [
    "## Create additional variables from the campervan's descriptions"
   ]
  },
  {
   "cell_type": "markdown",
   "metadata": {},
   "source": [
    "### Change strings in 'description_raw' ad 'text_raw' to uppercase "
   ]
  },
  {
   "cell_type": "code",
   "execution_count": 82,
   "metadata": {},
   "outputs": [
    {
     "name": "stdout",
     "output_type": "stream",
     "text": [
      "0                                 MERCEDES-BENZ CAMPER\n",
      "1        CARADO I 449 ÉDITION 15 FIAT CAPRON 169L/1449\n",
      "2                                DETHLEFFS FIAT DUCATO\n",
      "3                           FIAT EURO MASTER WOHNMOBIL\n",
      "4    VW T6.1 CALIFORNIA 2.0 TDI OCEAN EDITION LIBER...\n",
      "5    VW T6.1 KNAUS TOURER VAN 500 MW, MEGA AUSSTATT...\n",
      "6             VW T6.1 CALIFORNIA 2.0 TDI OCEAN LIBERTY\n",
      "7                                      HYMER BMC 580-I\n",
      "8    VW T6 CALIFORNIA 2.0 TDI BULLI BEACH EDITION 4...\n",
      "9             MERCEDES-BENZ MARCO POLO 250 D 7G-TRONIC\n",
      "Name: description_raw, dtype: object \n",
      "\n",
      "0                   MITTELSTRASSE 38, 3613 STEFFISBURG\n",
      "1    ZONE INDUSTRIELLE LES PORTETTES 2C, 1312 ECLÉPENS\n",
      "2                   RTE DU ST-BERNARD 8, 1937 ORSIÈRES\n",
      "3                    BADENERSTRASSE 84, 8952 SCHLIEREN\n",
      "4                                       8852 ALTENDORF\n",
      "5                                       8852 ALTENDORF\n",
      "6                     GÜTERSTRASSE 37, 9444 DIEPOLDSAU\n",
      "7                       BÜELHALDE 4, 8317 TAGELSWANGEN\n",
      "8                 BIRMENSDORFERSTRASSE 18, 8902 URDORF\n",
      "9                     NEUMATT 10, 4626 NIEDERBUCHSITEN\n",
      "Name: location_raw, dtype: object\n"
     ]
    }
   ],
   "source": [
    "# Change strings to uppercase \n",
    "df['description_raw'] = df['description_raw'].str.upper()\n",
    "print(df['description_raw'].head(10), '\\n')\n",
    "\n",
    "df['location_raw'] = df['location_raw'].str.upper()\n",
    "print(df['location_raw'].head(10))"
   ]
  },
  {
   "cell_type": "markdown",
   "metadata": {},
   "source": [
    "## Spannend wäre nach der Marke zu filtern, aber keine Ahnung wie"
   ]
  },
  {
   "cell_type": "markdown",
   "metadata": {},
   "source": [
    "## Create new categorical variable for based on campervan price"
   ]
  },
  {
   "cell_type": "code",
   "execution_count": 83,
   "metadata": {},
   "outputs": [
    {
     "name": "stdout",
     "output_type": "stream",
     "text": [
      "      price      price_cat\n",
      "0     15900      0 - 19999\n",
      "1     71900  50000 - 99999\n",
      "2     37800  20000 - 49999\n",
      "3     19900      0 - 19999\n",
      "4     84500  50000 - 99999\n",
      "...     ...            ...\n",
      "1520  52900  50000 - 99999\n",
      "1521  56900  50000 - 99999\n",
      "1522  32777  20000 - 49999\n",
      "1523  31777  20000 - 49999\n",
      "1524  39777  20000 - 49999\n",
      "\n",
      "[1525 rows x 2 columns]\n"
     ]
    },
    {
     "data": {
      "text/plain": [
       "price_cat\n",
       "0 - 19999          143\n",
       "20000 - 49999      553\n",
       "50000 - 99999      766\n",
       "100000 - 199999     42\n",
       "200000 - 499999     21\n",
       "500000 - 999999      0\n",
       "Name: count, dtype: int64"
      ]
     },
     "execution_count": 83,
     "metadata": {},
     "output_type": "execute_result"
    }
   ],
   "source": [
    "# Define classes (labels)\n",
    "labels = ['0 - 19999', '20000 - 49999', '50000 - 99999', '100000 - 199999', '200000 - 499999', '500000 - 999999']\n",
    "\n",
    "# Use the .cut method from pandas to divide the numeric values in classes\n",
    "df[\"price_cat\"] = pd.cut(df['price'], bins=[0, 20000, 50000, 100000, 200000, 500000, 1000000], labels=labels)\n",
    "\n",
    "# Show original data and classes\n",
    "print(df[['price', 'price_cat']])\n",
    "\n",
    "# Count the frequency of each class and sort them\n",
    "df['price_cat'].value_counts().sort_index()"
   ]
  },
  {
   "cell_type": "markdown",
   "metadata": {},
   "source": [
    "### EDA"
   ]
  },
  {
   "cell_type": "code",
   "execution_count": 84,
   "metadata": {},
   "outputs": [
    {
     "data": {
      "image/png": "[encoded data removed]",
      "text/plain": [
       "<Figure size 800x300 with 1 Axes>"
      ]
     },
     "metadata": {},
     "output_type": "display_data"
    }
   ],
   "source": [
    "# Group data by rooms (only the topmost 15 values are shown)\n",
    "df_bar = df['price_cat'].value_counts().nlargest(15).sort_index()\n",
    "\n",
    "# Values for barchart\n",
    "napart = list(df_bar.values)\n",
    "index = list(df_bar.index.values)\n",
    "y_pos = np.arange(len(index))\n",
    "\n",
    "# Figure\n",
    "fig, ax = plt.subplots(figsize=(8,3))\n",
    "ax.barh(y_pos, napart, align='center', color='g', alpha=0.8)\n",
    "ax.set_yticks(y_pos, index)\n",
    "ax.set_xlabel('Number of campervans', fontsize=10)\n",
    "ax.set_ylabel('Price Range', fontsize=10)\n",
    "\n",
    "# Show graph\n",
    "plt.show()"
   ]
  }
 ],
 "metadata": {
  "kernelspec": {
   "display_name": "Python 3",
   "language": "python",
   "name": "python3"
  },
  "language_info": {
   "codemirror_mode": {
    "name": "ipython",
    "version": 3
   },
   "file_extension": ".py",
   "mimetype": "text/x-python",
   "name": "python",
   "nbconvert_exporter": "python",
   "pygments_lexer": "ipython3",
   "version": "3.11.10"
  }
 },
 "nbformat": 4,
 "nbformat_minor": 2
}
