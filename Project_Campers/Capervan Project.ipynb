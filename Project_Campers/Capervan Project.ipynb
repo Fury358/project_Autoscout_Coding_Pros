{
 "cells": [
  {
   "cell_type": "markdown",
   "metadata": {},
   "source": [
    "# Campervan Projekt"
   ]
  },
  {
   "cell_type": "markdown",
   "metadata": {},
   "source": [
    "## Libraries and settings"
   ]
  },
  {
   "cell_type": "code",
   "execution_count": 49,
   "metadata": {},
   "outputs": [
    {
     "name": "stdout",
     "output_type": "stream",
     "text": [
      "/workspaces/project_Autoscout_Coding_Pros/Project_Campers\n"
     ]
    }
   ],
   "source": [
    "# Libraries\n",
    "import os\n",
    "import re\n",
    "import pprint\n",
    "import requests\n",
    "import numpy as np\n",
    "import pandas as pd\n",
    "\n",
    "import geopandas as gpd\n",
    "\n",
    "from shapely.geometry import Polygon\n",
    "\n",
    "import matplotlib.patches as patches\n",
    "from matplotlib import pyplot as plt\n",
    "\n",
    "# Ignore warnings\n",
    "import warnings\n",
    "warnings.filterwarnings(\"ignore\")\n",
    "\n",
    "print(os.getcwd())"
   ]
  },
  {
   "cell_type": "markdown",
   "metadata": {},
   "source": [
    "## Import data"
   ]
  },
  {
   "cell_type": "code",
   "execution_count": 50,
   "metadata": {},
   "outputs": [
    {
     "name": "stdout",
     "output_type": "stream",
     "text": [
      "Index(['web-scraper-order', 'web-scraper-start-url', 'autoscout24',\n",
      "       'autoscout24-href', 'description_raw', 'price_raw', 'mileage_raw',\n",
      "       'fuel_type_raw', 'location_raw'],\n",
      "      dtype='object')\n"
     ]
    },
    {
     "data": {
      "text/html": [
       "<div>\n",
       "<style scoped>\n",
       "    .dataframe tbody tr th:only-of-type {\n",
       "        vertical-align: middle;\n",
       "    }\n",
       "\n",
       "    .dataframe tbody tr th {\n",
       "        vertical-align: top;\n",
       "    }\n",
       "\n",
       "    .dataframe thead th {\n",
       "        text-align: right;\n",
       "    }\n",
       "</style>\n",
       "<table border=\"1\" class=\"dataframe\">\n",
       "  <thead>\n",
       "    <tr style=\"text-align: right;\">\n",
       "      <th></th>\n",
       "      <th>web-scraper-order</th>\n",
       "      <th>description_raw</th>\n",
       "      <th>price_raw</th>\n",
       "      <th>mileage_raw</th>\n",
       "      <th>fuel_type_raw</th>\n",
       "      <th>location_raw</th>\n",
       "    </tr>\n",
       "  </thead>\n",
       "  <tbody>\n",
       "    <tr>\n",
       "      <th>0</th>\n",
       "      <td>1733470796-1</td>\n",
       "      <td>MERCEDES-BENZ Camper</td>\n",
       "      <td>CHF 15'900.–</td>\n",
       "      <td>265'000 km</td>\n",
       "      <td>Diesel</td>\n",
       "      <td>Mittelstrasse 38, 3613 Steffisburg</td>\n",
       "    </tr>\n",
       "    <tr>\n",
       "      <th>1</th>\n",
       "      <td>1733470799-2</td>\n",
       "      <td>CARADO I 449 Édition 15 Fiat Capron 169L/1449</td>\n",
       "      <td>CHF 71'900.–</td>\n",
       "      <td>14'000 km</td>\n",
       "      <td>Diesel</td>\n",
       "      <td>Zone industrielle Les Portettes 2c, 1312 Eclépens</td>\n",
       "    </tr>\n",
       "    <tr>\n",
       "      <th>2</th>\n",
       "      <td>1733470801-3</td>\n",
       "      <td>DETHLEFFS Fiat Ducato</td>\n",
       "      <td>CHF 37'800.–</td>\n",
       "      <td>90'000 km</td>\n",
       "      <td>Diesel</td>\n",
       "      <td>Rte du St-Bernard 8, 1937 Orsières</td>\n",
       "    </tr>\n",
       "    <tr>\n",
       "      <th>3</th>\n",
       "      <td>1733470805-4</td>\n",
       "      <td>FIAT Euro Master Wohnmobil</td>\n",
       "      <td>CHF 19'900.–</td>\n",
       "      <td>187'236 km</td>\n",
       "      <td>Diesel</td>\n",
       "      <td>Badenerstrasse 84, 8952 Schlieren</td>\n",
       "    </tr>\n",
       "    <tr>\n",
       "      <th>4</th>\n",
       "      <td>1733470807-5</td>\n",
       "      <td>VW T6.1 California 2.0 TDI Ocean Edition Liber...</td>\n",
       "      <td>CHF 84'500.–</td>\n",
       "      <td>16'500 km</td>\n",
       "      <td>Diesel</td>\n",
       "      <td>8852 Altendorf</td>\n",
       "    </tr>\n",
       "  </tbody>\n",
       "</table>\n",
       "</div>"
      ],
      "text/plain": [
       "  web-scraper-order                                    description_raw  \\\n",
       "0      1733470796-1                               MERCEDES-BENZ Camper   \n",
       "1      1733470799-2      CARADO I 449 Édition 15 Fiat Capron 169L/1449   \n",
       "2      1733470801-3                              DETHLEFFS Fiat Ducato   \n",
       "3      1733470805-4                         FIAT Euro Master Wohnmobil   \n",
       "4      1733470807-5  VW T6.1 California 2.0 TDI Ocean Edition Liber...   \n",
       "\n",
       "      price_raw mileage_raw fuel_type_raw  \\\n",
       "0  CHF 15'900.–  265'000 km        Diesel   \n",
       "1  CHF 71'900.–   14'000 km        Diesel   \n",
       "2  CHF 37'800.–   90'000 km        Diesel   \n",
       "3  CHF 19'900.–  187'236 km        Diesel   \n",
       "4  CHF 84'500.–   16'500 km        Diesel   \n",
       "\n",
       "                                        location_raw  \n",
       "0                 Mittelstrasse 38, 3613 Steffisburg  \n",
       "1  Zone industrielle Les Portettes 2c, 1312 Eclépens  \n",
       "2                 Rte du St-Bernard 8, 1937 Orsières  \n",
       "3                  Badenerstrasse 84, 8952 Schlieren  \n",
       "4                                     8852 Altendorf  "
      ]
     },
     "execution_count": 50,
     "metadata": {},
     "output_type": "execute_result"
    }
   ],
   "source": [
    "# Read data\n",
    "df_orig = pd.read_csv(\"./data/Autoscout24_Camper.csv\", sep=\",\", encoding='utf-8')\n",
    "\n",
    "# Show column names from df_orig\n",
    "print(df_orig.columns)\n",
    "\n",
    "# define the columns to keep\n",
    "colums = ['web-scraper-order',\n",
    "        'description_raw',\n",
    "        'price_raw', \n",
    "        'mileage_raw',\n",
    "       'fuel_type_raw', \n",
    "       'location_raw']\n",
    "\n",
    "# keep only the columns we are interested in\n",
    "df = df_orig[colums]\n",
    "\n",
    "# Show first records of data frame\n",
    "df.head()\n"
   ]
  },
  {
   "cell_type": "markdown",
   "metadata": {},
   "source": [
    "### Count numbre of rows and columns in the dateframe"
   ]
  },
  {
   "cell_type": "code",
   "execution_count": 51,
   "metadata": {},
   "outputs": [
    {
     "name": "stdout",
     "output_type": "stream",
     "text": [
      "Dimension: (1587, 6)\n",
      "Number of rows: 1587\n",
      "Number of columns: 6\n"
     ]
    }
   ],
   "source": [
    "# Dimension (rows, columns)\n",
    "print('Dimension:', df.shape)\n",
    "\n",
    "# Number of rows\n",
    "print('Number of rows:', df.shape[0])\n",
    "\n",
    "# Number of columns\n",
    "print('Number of columns:', df.shape[1])"
   ]
  },
  {
   "cell_type": "markdown",
   "metadata": {},
   "source": [
    "### Get Data types from Web scraping"
   ]
  },
  {
   "cell_type": "code",
   "execution_count": 52,
   "metadata": {},
   "outputs": [
    {
     "data": {
      "text/plain": [
       "web-scraper-order    object\n",
       "description_raw      object\n",
       "price_raw            object\n",
       "mileage_raw          object\n",
       "fuel_type_raw        object\n",
       "location_raw         object\n",
       "dtype: object"
      ]
     },
     "execution_count": 52,
     "metadata": {},
     "output_type": "execute_result"
    }
   ],
   "source": [
    "# Get data types (note that in pandas, a string is referred to as 'object')\n",
    "df.dtypes"
   ]
  },
  {
   "cell_type": "markdown",
   "metadata": {},
   "source": [
    "#### Extract and save relevant information from raw data using regular expressions (regex)"
   ]
  },
  {
   "cell_type": "markdown",
   "metadata": {},
   "source": [
    "### Extract Price"
   ]
  },
  {
   "cell_type": "code",
   "execution_count": 53,
   "metadata": {},
   "outputs": [
    {
     "name": "stdout",
     "output_type": "stream",
     "text": [
      "      price_raw  price\n",
      "0  CHF 15'900.–  15900\n",
      "1  CHF 71'900.–  71900\n",
      "2  CHF 37'800.–  37800\n",
      "3  CHF 19'900.–  19900\n",
      "4  CHF 84'500.–  84500\n"
     ]
    }
   ],
   "source": [
    "# Extract values from 'price_raw' column\n",
    "price = []\n",
    "for i in df['price_raw']:\n",
    "    d1 = re.findall(r'[0-9]+', str(i))\n",
    "    try:\n",
    "        d2 = ''.join(d1).replace(\"'\", \"\").replace(\"CHF\", \"\").replace(\".-\", \"\").strip()\n",
    "    except:\n",
    "        d2 = None\n",
    "    price.append(d2)\n",
    "\n",
    "# Save as new variable in the pandas data frame\n",
    "df['price'] = pd.Series(price, dtype=\"int\")\n",
    "    \n",
    "# Print first 5 values\n",
    "print(df[['price_raw', 'price']].head(5))"
   ]
  },
  {
   "cell_type": "code",
   "execution_count": 54,
   "metadata": {},
   "outputs": [
    {
     "data": {
      "text/plain": [
       "web-scraper-order    object\n",
       "description_raw      object\n",
       "price_raw            object\n",
       "mileage_raw          object\n",
       "fuel_type_raw        object\n",
       "location_raw         object\n",
       "price                 int64\n",
       "dtype: object"
      ]
     },
     "execution_count": 54,
     "metadata": {},
     "output_type": "execute_result"
    }
   ],
   "source": [
    "df.dtypes"
   ]
  },
  {
   "cell_type": "code",
   "execution_count": 55,
   "metadata": {},
   "outputs": [
    {
     "data": {
      "text/html": [
       "<div>\n",
       "<style scoped>\n",
       "    .dataframe tbody tr th:only-of-type {\n",
       "        vertical-align: middle;\n",
       "    }\n",
       "\n",
       "    .dataframe tbody tr th {\n",
       "        vertical-align: top;\n",
       "    }\n",
       "\n",
       "    .dataframe thead th {\n",
       "        text-align: right;\n",
       "    }\n",
       "</style>\n",
       "<table border=\"1\" class=\"dataframe\">\n",
       "  <thead>\n",
       "    <tr style=\"text-align: right;\">\n",
       "      <th></th>\n",
       "      <th>web-scraper-order</th>\n",
       "      <th>description_raw</th>\n",
       "      <th>price_raw</th>\n",
       "      <th>mileage_raw</th>\n",
       "      <th>fuel_type_raw</th>\n",
       "      <th>location_raw</th>\n",
       "      <th>price</th>\n",
       "    </tr>\n",
       "  </thead>\n",
       "  <tbody>\n",
       "    <tr>\n",
       "      <th>0</th>\n",
       "      <td>1733470796-1</td>\n",
       "      <td>MERCEDES-BENZ Camper</td>\n",
       "      <td>CHF 15'900.–</td>\n",
       "      <td>265'000 km</td>\n",
       "      <td>Diesel</td>\n",
       "      <td>Mittelstrasse 38, 3613 Steffisburg</td>\n",
       "      <td>15900</td>\n",
       "    </tr>\n",
       "    <tr>\n",
       "      <th>1</th>\n",
       "      <td>1733470799-2</td>\n",
       "      <td>CARADO I 449 Édition 15 Fiat Capron 169L/1449</td>\n",
       "      <td>CHF 71'900.–</td>\n",
       "      <td>14'000 km</td>\n",
       "      <td>Diesel</td>\n",
       "      <td>Zone industrielle Les Portettes 2c, 1312 Eclépens</td>\n",
       "      <td>71900</td>\n",
       "    </tr>\n",
       "    <tr>\n",
       "      <th>2</th>\n",
       "      <td>1733470801-3</td>\n",
       "      <td>DETHLEFFS Fiat Ducato</td>\n",
       "      <td>CHF 37'800.–</td>\n",
       "      <td>90'000 km</td>\n",
       "      <td>Diesel</td>\n",
       "      <td>Rte du St-Bernard 8, 1937 Orsières</td>\n",
       "      <td>37800</td>\n",
       "    </tr>\n",
       "    <tr>\n",
       "      <th>3</th>\n",
       "      <td>1733470805-4</td>\n",
       "      <td>FIAT Euro Master Wohnmobil</td>\n",
       "      <td>CHF 19'900.–</td>\n",
       "      <td>187'236 km</td>\n",
       "      <td>Diesel</td>\n",
       "      <td>Badenerstrasse 84, 8952 Schlieren</td>\n",
       "      <td>19900</td>\n",
       "    </tr>\n",
       "    <tr>\n",
       "      <th>4</th>\n",
       "      <td>1733470807-5</td>\n",
       "      <td>VW T6.1 California 2.0 TDI Ocean Edition Liber...</td>\n",
       "      <td>CHF 84'500.–</td>\n",
       "      <td>16'500 km</td>\n",
       "      <td>Diesel</td>\n",
       "      <td>8852 Altendorf</td>\n",
       "      <td>84500</td>\n",
       "    </tr>\n",
       "  </tbody>\n",
       "</table>\n",
       "</div>"
      ],
      "text/plain": [
       "  web-scraper-order                                    description_raw  \\\n",
       "0      1733470796-1                               MERCEDES-BENZ Camper   \n",
       "1      1733470799-2      CARADO I 449 Édition 15 Fiat Capron 169L/1449   \n",
       "2      1733470801-3                              DETHLEFFS Fiat Ducato   \n",
       "3      1733470805-4                         FIAT Euro Master Wohnmobil   \n",
       "4      1733470807-5  VW T6.1 California 2.0 TDI Ocean Edition Liber...   \n",
       "\n",
       "      price_raw mileage_raw fuel_type_raw  \\\n",
       "0  CHF 15'900.–  265'000 km        Diesel   \n",
       "1  CHF 71'900.–   14'000 km        Diesel   \n",
       "2  CHF 37'800.–   90'000 km        Diesel   \n",
       "3  CHF 19'900.–  187'236 km        Diesel   \n",
       "4  CHF 84'500.–   16'500 km        Diesel   \n",
       "\n",
       "                                        location_raw  price  \n",
       "0                 Mittelstrasse 38, 3613 Steffisburg  15900  \n",
       "1  Zone industrielle Les Portettes 2c, 1312 Eclépens  71900  \n",
       "2                 Rte du St-Bernard 8, 1937 Orsières  37800  \n",
       "3                  Badenerstrasse 84, 8952 Schlieren  19900  \n",
       "4                                     8852 Altendorf  84500  "
      ]
     },
     "execution_count": 55,
     "metadata": {},
     "output_type": "execute_result"
    }
   ],
   "source": [
    "df.head()"
   ]
  },
  {
   "cell_type": "markdown",
   "metadata": {},
   "source": [
    "### Extract Mileage"
   ]
  },
  {
   "cell_type": "code",
   "execution_count": 56,
   "metadata": {},
   "outputs": [
    {
     "name": "stdout",
     "output_type": "stream",
     "text": [
      "0    265'000 km\n",
      "1     14'000 km\n",
      "2     90'000 km\n",
      "3    187'236 km\n",
      "4     16'500 km\n",
      "Name: mileage_raw, dtype: object \n",
      "\n",
      "0    265000\n",
      "1     14000\n",
      "2     90000\n",
      "3    187236\n",
      "4     16500\n",
      "Name: mileage, dtype: int64\n"
     ]
    }
   ],
   "source": [
    "# Extract values from 'mileage_raw' column\n",
    "mileage = []\n",
    "for i in df['mileage_raw']:\n",
    "    d1 = re.findall(r'[0-9]+', str(i))\n",
    "    try:\n",
    "        d2 = ''.join(d1).replace(\"'\", \"\").replace(\"km\", \"\").replace(\".-\", \"\").strip()\n",
    "    except:\n",
    "        d2 = None\n",
    "    mileage.append(d2)\n",
    "\n",
    "# Save as new variable in the pandas data frame\n",
    "df['mileage'] = pd.Series(mileage, dtype=\"int\")\n",
    "    \n",
    "# Print first 5 values\n",
    "print(df['mileage_raw'].head(5), '\\n')\n",
    "print(df['mileage'].head(5))"
   ]
  },
  {
   "cell_type": "code",
   "execution_count": 57,
   "metadata": {},
   "outputs": [
    {
     "data": {
      "text/plain": [
       "web-scraper-order    object\n",
       "description_raw      object\n",
       "price_raw            object\n",
       "mileage_raw          object\n",
       "fuel_type_raw        object\n",
       "location_raw         object\n",
       "price                 int64\n",
       "mileage               int64\n",
       "dtype: object"
      ]
     },
     "execution_count": 57,
     "metadata": {},
     "output_type": "execute_result"
    }
   ],
   "source": [
    "df.dtypes"
   ]
  },
  {
   "cell_type": "markdown",
   "metadata": {},
   "source": [
    "### Fuel Type to Dummy"
   ]
  },
  {
   "cell_type": "code",
   "execution_count": 60,
   "metadata": {},
   "outputs": [
    {
     "data": {
      "text/plain": [
       "fuel_type_raw\n",
       "Diesel     1453\n",
       "Benzin       72\n",
       "-            61\n",
       "Elektro       1\n",
       "Name: count, dtype: int64"
      ]
     },
     "execution_count": 60,
     "metadata": {},
     "output_type": "execute_result"
    }
   ],
   "source": [
    "#count frequency of values in column 'fuel_type_raw'\n",
    "df['fuel_type_raw'].value_counts()"
   ]
  },
  {
   "cell_type": "code",
   "execution_count": 72,
   "metadata": {},
   "outputs": [
    {
     "name": "stdout",
     "output_type": "stream",
     "text": [
      "fuel_type_raw\n",
      "Diesel    1453\n",
      "Benzin      72\n",
      "Name: count, dtype: int64\n"
     ]
    },
    {
     "data": {
      "text/html": [
       "<div>\n",
       "<style scoped>\n",
       "    .dataframe tbody tr th:only-of-type {\n",
       "        vertical-align: middle;\n",
       "    }\n",
       "\n",
       "    .dataframe tbody tr th {\n",
       "        vertical-align: top;\n",
       "    }\n",
       "\n",
       "    .dataframe thead th {\n",
       "        text-align: right;\n",
       "    }\n",
       "</style>\n",
       "<table border=\"1\" class=\"dataframe\">\n",
       "  <thead>\n",
       "    <tr style=\"text-align: right;\">\n",
       "      <th></th>\n",
       "      <th>web-scraper-order</th>\n",
       "      <th>description_raw</th>\n",
       "      <th>price_raw</th>\n",
       "      <th>mileage_raw</th>\n",
       "      <th>location_raw</th>\n",
       "      <th>price</th>\n",
       "      <th>mileage</th>\n",
       "      <th>fuel_type_raw_Diesel</th>\n",
       "    </tr>\n",
       "  </thead>\n",
       "  <tbody>\n",
       "    <tr>\n",
       "      <th>0</th>\n",
       "      <td>1733470796-1</td>\n",
       "      <td>MERCEDES-BENZ Camper</td>\n",
       "      <td>CHF 15'900.–</td>\n",
       "      <td>265'000 km</td>\n",
       "      <td>Mittelstrasse 38, 3613 Steffisburg</td>\n",
       "      <td>15900</td>\n",
       "      <td>265000</td>\n",
       "      <td>1</td>\n",
       "    </tr>\n",
       "    <tr>\n",
       "      <th>1</th>\n",
       "      <td>1733470799-2</td>\n",
       "      <td>CARADO I 449 Édition 15 Fiat Capron 169L/1449</td>\n",
       "      <td>CHF 71'900.–</td>\n",
       "      <td>14'000 km</td>\n",
       "      <td>Zone industrielle Les Portettes 2c, 1312 Eclépens</td>\n",
       "      <td>71900</td>\n",
       "      <td>14000</td>\n",
       "      <td>1</td>\n",
       "    </tr>\n",
       "    <tr>\n",
       "      <th>2</th>\n",
       "      <td>1733470801-3</td>\n",
       "      <td>DETHLEFFS Fiat Ducato</td>\n",
       "      <td>CHF 37'800.–</td>\n",
       "      <td>90'000 km</td>\n",
       "      <td>Rte du St-Bernard 8, 1937 Orsières</td>\n",
       "      <td>37800</td>\n",
       "      <td>90000</td>\n",
       "      <td>1</td>\n",
       "    </tr>\n",
       "    <tr>\n",
       "      <th>3</th>\n",
       "      <td>1733470805-4</td>\n",
       "      <td>FIAT Euro Master Wohnmobil</td>\n",
       "      <td>CHF 19'900.–</td>\n",
       "      <td>187'236 km</td>\n",
       "      <td>Badenerstrasse 84, 8952 Schlieren</td>\n",
       "      <td>19900</td>\n",
       "      <td>187236</td>\n",
       "      <td>1</td>\n",
       "    </tr>\n",
       "    <tr>\n",
       "      <th>4</th>\n",
       "      <td>1733470807-5</td>\n",
       "      <td>VW T6.1 California 2.0 TDI Ocean Edition Liber...</td>\n",
       "      <td>CHF 84'500.–</td>\n",
       "      <td>16'500 km</td>\n",
       "      <td>8852 Altendorf</td>\n",
       "      <td>84500</td>\n",
       "      <td>16500</td>\n",
       "      <td>1</td>\n",
       "    </tr>\n",
       "    <tr>\n",
       "      <th>...</th>\n",
       "      <td>...</td>\n",
       "      <td>...</td>\n",
       "      <td>...</td>\n",
       "      <td>...</td>\n",
       "      <td>...</td>\n",
       "      <td>...</td>\n",
       "      <td>...</td>\n",
       "      <td>...</td>\n",
       "    </tr>\n",
       "    <tr>\n",
       "      <th>1582</th>\n",
       "      <td>1733477100-1583</td>\n",
       "      <td>SUNLIGHT Cliff 600 Adventure Edition, Citroen ...</td>\n",
       "      <td>CHF 52'900.–</td>\n",
       "      <td>11'000 km</td>\n",
       "      <td>8406 Winterthur</td>\n",
       "      <td>52900</td>\n",
       "      <td>11000</td>\n",
       "      <td>1</td>\n",
       "    </tr>\n",
       "    <tr>\n",
       "      <th>1583</th>\n",
       "      <td>1733477103-1584</td>\n",
       "      <td>LAIKA Kosmo V9 Compact, Fiat Ducato 2.3MJ 140PS</td>\n",
       "      <td>CHF 56'900.–</td>\n",
       "      <td>14'500 km</td>\n",
       "      <td>8406 Winterthur</td>\n",
       "      <td>56900</td>\n",
       "      <td>14500</td>\n",
       "      <td>1</td>\n",
       "    </tr>\n",
       "    <tr>\n",
       "      <th>1584</th>\n",
       "      <td>1733477106-1585</td>\n",
       "      <td>PEUGEOT 335-120 FL2</td>\n",
       "      <td>CHF 32'777.–</td>\n",
       "      <td>132'000 km</td>\n",
       "      <td>Sulzer-Allee 41, 8404 Winterthur</td>\n",
       "      <td>32777</td>\n",
       "      <td>132000</td>\n",
       "      <td>1</td>\n",
       "    </tr>\n",
       "    <tr>\n",
       "      <th>1585</th>\n",
       "      <td>1733477109-1586</td>\n",
       "      <td>CITROEN 2.2 HDI 12Q</td>\n",
       "      <td>CHF 31'777.–</td>\n",
       "      <td>116'700 km</td>\n",
       "      <td>Sulzer-Allee 41, 8404 Winterthur</td>\n",
       "      <td>31777</td>\n",
       "      <td>116700</td>\n",
       "      <td>1</td>\n",
       "    </tr>\n",
       "    <tr>\n",
       "      <th>1586</th>\n",
       "      <td>1733477112-1587</td>\n",
       "      <td>BÜRSTNER 664</td>\n",
       "      <td>CHF 39'777.–</td>\n",
       "      <td>75'098 km</td>\n",
       "      <td>Sulzer-Allee 41, 8404 Winterthur</td>\n",
       "      <td>39777</td>\n",
       "      <td>75098</td>\n",
       "      <td>1</td>\n",
       "    </tr>\n",
       "  </tbody>\n",
       "</table>\n",
       "<p>1525 rows × 8 columns</p>\n",
       "</div>"
      ],
      "text/plain": [
       "     web-scraper-order                                    description_raw  \\\n",
       "0         1733470796-1                               MERCEDES-BENZ Camper   \n",
       "1         1733470799-2      CARADO I 449 Édition 15 Fiat Capron 169L/1449   \n",
       "2         1733470801-3                              DETHLEFFS Fiat Ducato   \n",
       "3         1733470805-4                         FIAT Euro Master Wohnmobil   \n",
       "4         1733470807-5  VW T6.1 California 2.0 TDI Ocean Edition Liber...   \n",
       "...                ...                                                ...   \n",
       "1582   1733477100-1583  SUNLIGHT Cliff 600 Adventure Edition, Citroen ...   \n",
       "1583   1733477103-1584    LAIKA Kosmo V9 Compact, Fiat Ducato 2.3MJ 140PS   \n",
       "1584   1733477106-1585                                PEUGEOT 335-120 FL2   \n",
       "1585   1733477109-1586                                CITROEN 2.2 HDI 12Q   \n",
       "1586   1733477112-1587                                       BÜRSTNER 664   \n",
       "\n",
       "         price_raw mileage_raw  \\\n",
       "0     CHF 15'900.–  265'000 km   \n",
       "1     CHF 71'900.–   14'000 km   \n",
       "2     CHF 37'800.–   90'000 km   \n",
       "3     CHF 19'900.–  187'236 km   \n",
       "4     CHF 84'500.–   16'500 km   \n",
       "...            ...         ...   \n",
       "1582  CHF 52'900.–   11'000 km   \n",
       "1583  CHF 56'900.–   14'500 km   \n",
       "1584  CHF 32'777.–  132'000 km   \n",
       "1585  CHF 31'777.–  116'700 km   \n",
       "1586  CHF 39'777.–   75'098 km   \n",
       "\n",
       "                                           location_raw  price  mileage  \\\n",
       "0                    Mittelstrasse 38, 3613 Steffisburg  15900   265000   \n",
       "1     Zone industrielle Les Portettes 2c, 1312 Eclépens  71900    14000   \n",
       "2                    Rte du St-Bernard 8, 1937 Orsières  37800    90000   \n",
       "3                     Badenerstrasse 84, 8952 Schlieren  19900   187236   \n",
       "4                                        8852 Altendorf  84500    16500   \n",
       "...                                                 ...    ...      ...   \n",
       "1582                                    8406 Winterthur  52900    11000   \n",
       "1583                                    8406 Winterthur  56900    14500   \n",
       "1584                   Sulzer-Allee 41, 8404 Winterthur  32777   132000   \n",
       "1585                   Sulzer-Allee 41, 8404 Winterthur  31777   116700   \n",
       "1586                   Sulzer-Allee 41, 8404 Winterthur  39777    75098   \n",
       "\n",
       "      fuel_type_raw_Diesel  \n",
       "0                        1  \n",
       "1                        1  \n",
       "2                        1  \n",
       "3                        1  \n",
       "4                        1  \n",
       "...                    ...  \n",
       "1582                     1  \n",
       "1583                     1  \n",
       "1584                     1  \n",
       "1585                     1  \n",
       "1586                     1  \n",
       "\n",
       "[1525 rows x 8 columns]"
      ]
     },
     "execution_count": 72,
     "metadata": {},
     "output_type": "execute_result"
    }
   ],
   "source": [
    "# Filter for Diesel and Benzin\n",
    "df = df[(df['fuel_type_raw'] == 'Diesel') | (df['fuel_type_raw'] == 'Benzin')]\n",
    "\n",
    "count = df['fuel_type_raw'].value_counts()\n",
    "print(count)\n",
    "\n",
    "# One-Hot-Encoding für die Spalte 'fuel_type_raw' and change true and false to 0 and 1\n",
    "df_encoded = pd.get_dummies(df, columns=['fuel_type_raw'], drop_first=True)\n",
    "\n",
    "# Konvertiere boolesche Werte in 0 und 1\n",
    "bool_columns = df_encoded.select_dtypes(include=['bool']).columns\n",
    "df_encoded[bool_columns] = df_encoded[bool_columns].astype(int)\n",
    "\n",
    "# Überprüfe das Ergebnis\n",
    "df_encoded\n",
    "\n"
   ]
  }
 ],
 "metadata": {
  "kernelspec": {
   "display_name": "Python 3",
   "language": "python",
   "name": "python3"
  },
  "language_info": {
   "codemirror_mode": {
    "name": "ipython",
    "version": 3
   },
   "file_extension": ".py",
   "mimetype": "text/x-python",
   "name": "python",
   "nbconvert_exporter": "python",
   "pygments_lexer": "ipython3",
   "version": "3.11.10"
  }
 },
 "nbformat": 4,
 "nbformat_minor": 2
}
